{
 "cells": [
  {
   "cell_type": "code",
   "execution_count": 1,
   "metadata": {
    "ExecuteTime": {
     "end_time": "2018-07-30T10:07:50.921163",
     "start_time": "2018-07-30T10:07:50.907446"
    },
    "collapsed": true,
    "run_control": {
     "frozen": false,
     "read_only": false
    }
   },
   "outputs": [],
   "source": [
    "%load_ext autoreload\n",
    "%autoreload 2"
   ]
  },
  {
   "cell_type": "code",
   "execution_count": 2,
   "metadata": {
    "ExecuteTime": {
     "end_time": "2018-07-30T10:07:54.366918",
     "start_time": "2018-07-30T10:07:51.592762"
    },
    "run_control": {
     "frozen": false,
     "read_only": false
    }
   },
   "outputs": [
    {
     "name": "stderr",
     "output_type": "stream",
     "text": [
      "Using TensorFlow backend.\n"
     ]
    }
   ],
   "source": [
    "import os, sys\n",
    "import pandas as pd\n",
    "\n",
    "sys.path.append('../deepcut')\n",
    "\n",
    "from burmese_train import *\n",
    "import burmese_utils as utils"
   ]
  },
  {
   "cell_type": "code",
   "execution_count": 3,
   "metadata": {
    "ExecuteTime": {
     "end_time": "2018-07-30T10:08:19.128070",
     "start_time": "2018-07-30T10:08:06.047310"
    },
    "run_control": {
     "frozen": false,
     "read_only": false
    }
   },
   "outputs": [
    {
     "name": "stdout",
     "output_type": "stream",
     "text": [
      "Saving to CSV file\n"
     ]
    }
   ],
   "source": [
    "generate_alt_dataset('/Users/nglenn/Downloads/Myanmar-ALT-20170110/data_my.my-raw')"
   ]
  },
  {
   "cell_type": "code",
   "execution_count": 60,
   "metadata": {
    "ExecuteTime": {
     "end_time": "2018-07-27T22:52:10.971493",
     "start_time": "2018-07-27T22:52:01.845618"
    },
    "collapsed": true,
    "run_control": {
     "frozen": false,
     "read_only": false
    }
   },
   "outputs": [],
   "source": [
    "x_char, x_type, y = prepare_feature('cleaned_data', option='train')"
   ]
  },
  {
   "cell_type": "code",
   "execution_count": 4,
   "metadata": {
    "ExecuteTime": {
     "end_time": "2018-07-30T10:08:56.847535",
     "start_time": "2018-07-30T10:08:56.642544"
    },
    "run_control": {
     "frozen": false,
     "read_only": false
    }
   },
   "outputs": [
    {
     "ename": "NameError",
     "evalue": "name 'x_char' is not defined",
     "output_type": "error",
     "traceback": [
      "\u001b[0;31m---------------------------------------------------------------------------\u001b[0m",
      "\u001b[0;31mNameError\u001b[0m                                 Traceback (most recent call last)",
      "\u001b[0;32m<ipython-input-4-4d9686455f82>\u001b[0m in \u001b[0;36m<module>\u001b[0;34m()\u001b[0m\n\u001b[0;32m----> 1\u001b[0;31m \u001b[0;32mfor\u001b[0m \u001b[0mrow\u001b[0m \u001b[0;32min\u001b[0m \u001b[0mx_char\u001b[0m\u001b[0;34m:\u001b[0m\u001b[0;34m\u001b[0m\u001b[0m\n\u001b[0m\u001b[1;32m      2\u001b[0m     \u001b[0;32mfor\u001b[0m \u001b[0mchar\u001b[0m \u001b[0;32min\u001b[0m \u001b[0mrow\u001b[0m\u001b[0;34m:\u001b[0m\u001b[0;34m\u001b[0m\u001b[0m\n\u001b[1;32m      3\u001b[0m         \u001b[0;32mif\u001b[0m \u001b[0mchar\u001b[0m \u001b[0;34m==\u001b[0m \u001b[0;36m222\u001b[0m\u001b[0;34m:\u001b[0m\u001b[0;34m\u001b[0m\u001b[0m\n\u001b[1;32m      4\u001b[0m             \u001b[0mprint\u001b[0m\u001b[0;34m(\u001b[0m\u001b[0;34m\"found it!\"\u001b[0m\u001b[0;34m)\u001b[0m\u001b[0;34m\u001b[0m\u001b[0m\n",
      "\u001b[0;31mNameError\u001b[0m: name 'x_char' is not defined"
     ]
    }
   ],
   "source": [
    "for row in x_char:\n",
    "    for char in row:\n",
    "        if char == 222:\n",
    "            print(\"found it!\")"
   ]
  },
  {
   "cell_type": "code",
   "execution_count": 5,
   "metadata": {
    "ExecuteTime": {
     "end_time": "2018-07-31T01:58:01.468564",
     "start_time": "2018-07-30T10:09:05.505945"
    },
    "run_control": {
     "frozen": false,
     "read_only": false
    }
   },
   "outputs": [
    {
     "name": "stdout",
     "output_type": "stream",
     "text": [
      "Number of chars: 223\n",
      "train with 10 epochs and 256 batch size\n",
      "Epoch 1/10\n",
      " - 2414s - loss: 0.1034 - acc: 0.9571\n",
      "Epoch 2/10\n"
     ]
    },
    {
     "name": "stderr",
     "output_type": "stream",
     "text": [
      "/usr/local/lib/python3.6/site-packages/keras/callbacks.py:432: RuntimeWarning: Can save best model only with val_loss available, skipping.\n",
      "  'skipping.' % (self.monitor), RuntimeWarning)\n"
     ]
    },
    {
     "name": "stdout",
     "output_type": "stream",
     "text": [
      " - 2568s - loss: 0.0838 - acc: 0.9669\n",
      "Epoch 3/10\n",
      " - 2579s - loss: 0.0777 - acc: 0.9696\n",
      "Epoch 4/10\n",
      " - 2581s - loss: 0.0737 - acc: 0.9712\n",
      "Epoch 5/10\n",
      " - 2583s - loss: 0.0709 - acc: 0.9723\n",
      "Epoch 6/10\n",
      " - 2583s - loss: 0.0685 - acc: 0.9732\n",
      "Epoch 7/10\n",
      " - 2585s - loss: 0.0665 - acc: 0.9740\n",
      "Epoch 8/10\n",
      " - 2588s - loss: 0.0647 - acc: 0.9747\n",
      "Epoch 9/10\n",
      " - 2592s - loss: 0.0631 - acc: 0.9753\n",
      "Epoch 10/10\n",
      " - 2469s - loss: 0.0616 - acc: 0.9759\n",
      "train with 3 epochs and 512 batch size\n",
      "Epoch 1/3\n",
      " - 2387s - loss: 0.0579 - acc: 0.9772\n",
      "Epoch 2/3\n",
      " - 2406s - loss: 0.0567 - acc: 0.9776\n",
      "Epoch 3/3\n",
      " - 2316s - loss: 0.0556 - acc: 0.9780\n",
      "train with 3 epochs and 2048 batch size\n",
      "Epoch 1/3\n",
      " - 2494s - loss: 0.0512 - acc: 0.9797\n",
      "Epoch 2/3\n",
      " - 2336s - loss: 0.0506 - acc: 0.9799\n",
      "Epoch 3/3\n",
      " - 5095s - loss: 0.0501 - acc: 0.9801\n",
      "train with 3 epochs and 4096 batch size\n",
      "Epoch 1/3\n",
      " - 2630s - loss: 0.0482 - acc: 0.9808\n",
      "Epoch 2/3\n",
      " - 2333s - loss: 0.0478 - acc: 0.9809\n",
      "Epoch 3/3\n",
      " - 2326s - loss: 0.0476 - acc: 0.9810\n",
      "train with 3 epochs and 8192 batch size\n",
      "Epoch 1/3\n",
      " - 2354s - loss: 0.0460 - acc: 0.9816\n",
      "Epoch 2/3\n",
      " - 2352s - loss: 0.0458 - acc: 0.9817\n",
      "Epoch 3/3\n",
      " - 2353s - loss: 0.0456 - acc: 0.9817\n"
     ]
    }
   ],
   "source": [
    "model = train_model('cleaned_data')"
   ]
  },
  {
   "cell_type": "code",
   "execution_count": 7,
   "metadata": {
    "ExecuteTime": {
     "end_time": "2018-07-31T08:11:16.518269",
     "start_time": "2018-07-31T08:11:15.777336"
    },
    "collapsed": true
   },
   "outputs": [],
   "source": [
    "model.save('/Users/nglenn/dev/workspaces/python_workspace/deepcut/weight/model_weight.h5')"
   ]
  },
  {
   "cell_type": "code",
   "execution_count": 8,
   "metadata": {
    "ExecuteTime": {
     "end_time": "2018-07-31T08:13:26.155758",
     "start_time": "2018-07-31T08:11:48.849174"
    },
    "run_control": {
     "frozen": false,
     "read_only": false
    }
   },
   "outputs": [
    {
     "data": {
      "text/plain": [
       "(0.9114589760871835, 0.9253291185597811, 0.8979985035540591)"
      ]
     },
     "execution_count": 8,
     "metadata": {},
     "output_type": "execute_result"
    }
   ],
   "source": [
    "evaluate ('cleaned_data', model)"
   ]
  }
 ],
 "metadata": {
  "kernelspec": {
   "display_name": "Python 3",
   "language": "python",
   "name": "python3"
  },
  "language_info": {
   "codemirror_mode": {
    "name": "ipython",
    "version": 3
   },
   "file_extension": ".py",
   "mimetype": "text/x-python",
   "name": "python",
   "nbconvert_exporter": "python",
   "pygments_lexer": "ipython3",
   "version": "3.6.4"
  },
  "latex_envs": {
   "LaTeX_envs_menu_present": true,
   "bibliofile": "biblio.bib",
   "cite_by": "apalike",
   "current_citInitial": 1,
   "eqLabelWithNumbers": true,
   "eqNumInitial": 1,
   "hotkeys": {
    "equation": "Ctrl-E",
    "itemize": "Ctrl-I"
   },
   "labels_anchors": false,
   "latex_user_defs": false,
   "report_style_numbering": false,
   "user_envs_cfg": false
  }
 },
 "nbformat": 4,
 "nbformat_minor": 2
}
